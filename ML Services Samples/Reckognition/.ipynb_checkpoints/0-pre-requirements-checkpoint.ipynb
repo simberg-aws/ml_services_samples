{
 "cells": [
  {
   "cell_type": "markdown",
   "metadata": {},
   "source": [
    "# Virtual Proctoring using Amazon Rekognition\n",
    "\n",
    "These notebook provide a walkthrough of some Amazon Rekognition APIs that are relevant to Virtual Proctoring.\n",
    "\n",
    "In order to start, it's necessary to create a bucket where to host sample images and videos used by each notebook."
   ]
  },
  {
   "cell_type": "code",
   "execution_count": 1,
   "metadata": {
    "scrolled": true
   },
   "outputs": [
    {
     "name": "stdout",
     "output_type": "stream",
     "text": [
      "Requirement already satisfied: pip in /home/ec2-user/anaconda3/envs/amazonei_pytorch_latest_p36/lib/python3.6/site-packages (21.0.1)\n",
      "Requirement already satisfied: botocore in /home/ec2-user/anaconda3/envs/amazonei_pytorch_latest_p36/lib/python3.6/site-packages (1.20.35)\n",
      "Collecting botocore\n",
      "  Using cached botocore-1.20.49-py2.py3-none-any.whl (7.4 MB)\n",
      "Requirement already satisfied: python-dateutil<3.0.0,>=2.1 in /home/ec2-user/anaconda3/envs/amazonei_pytorch_latest_p36/lib/python3.6/site-packages (from botocore) (2.8.1)\n",
      "Requirement already satisfied: jmespath<1.0.0,>=0.7.1 in /home/ec2-user/anaconda3/envs/amazonei_pytorch_latest_p36/lib/python3.6/site-packages (from botocore) (0.10.0)\n",
      "Requirement already satisfied: urllib3<1.27,>=1.25.4 in /home/ec2-user/anaconda3/envs/amazonei_pytorch_latest_p36/lib/python3.6/site-packages (from botocore) (1.26.3)\n",
      "Requirement already satisfied: six>=1.5 in /home/ec2-user/anaconda3/envs/amazonei_pytorch_latest_p36/lib/python3.6/site-packages (from python-dateutil<3.0.0,>=2.1->botocore) (1.15.0)\n",
      "Installing collected packages: botocore\n",
      "  Attempting uninstall: botocore\n",
      "    Found existing installation: botocore 1.20.35\n",
      "    Uninstalling botocore-1.20.35:\n",
      "      Successfully uninstalled botocore-1.20.35\n",
      "\u001b[31mERROR: pip's dependency resolver does not currently take into account all the packages that are installed. This behaviour is the source of the following dependency conflicts.\n",
      "awscli 1.19.35 requires botocore==1.20.35, but you have botocore 1.20.49 which is incompatible.\n",
      "aiobotocore 1.2.1 requires botocore<1.19.53,>=1.19.52, but you have botocore 1.20.49 which is incompatible.\u001b[0m\n",
      "Successfully installed botocore-1.20.49\n",
      "Requirement already satisfied: boto3 in /home/ec2-user/anaconda3/envs/amazonei_pytorch_latest_p36/lib/python3.6/site-packages (1.17.35)\n",
      "Collecting boto3\n",
      "  Using cached boto3-1.17.49-py2.py3-none-any.whl (131 kB)\n",
      "Requirement already satisfied: jmespath<1.0.0,>=0.7.1 in /home/ec2-user/anaconda3/envs/amazonei_pytorch_latest_p36/lib/python3.6/site-packages (from boto3) (0.10.0)\n",
      "Requirement already satisfied: s3transfer<0.4.0,>=0.3.0 in /home/ec2-user/anaconda3/envs/amazonei_pytorch_latest_p36/lib/python3.6/site-packages (from boto3) (0.3.4)\n",
      "Requirement already satisfied: botocore<1.21.0,>=1.20.49 in /home/ec2-user/anaconda3/envs/amazonei_pytorch_latest_p36/lib/python3.6/site-packages (from boto3) (1.20.49)\n",
      "Requirement already satisfied: python-dateutil<3.0.0,>=2.1 in /home/ec2-user/anaconda3/envs/amazonei_pytorch_latest_p36/lib/python3.6/site-packages (from botocore<1.21.0,>=1.20.49->boto3) (2.8.1)\n",
      "Requirement already satisfied: urllib3<1.27,>=1.25.4 in /home/ec2-user/anaconda3/envs/amazonei_pytorch_latest_p36/lib/python3.6/site-packages (from botocore<1.21.0,>=1.20.49->boto3) (1.26.3)\n",
      "Requirement already satisfied: six>=1.5 in /home/ec2-user/anaconda3/envs/amazonei_pytorch_latest_p36/lib/python3.6/site-packages (from python-dateutil<3.0.0,>=2.1->botocore<1.21.0,>=1.20.49->boto3) (1.15.0)\n",
      "Installing collected packages: boto3\n",
      "  Attempting uninstall: boto3\n",
      "    Found existing installation: boto3 1.17.35\n",
      "    Uninstalling boto3-1.17.35:\n",
      "      Successfully uninstalled boto3-1.17.35\n",
      "Successfully installed boto3-1.17.49\n",
      "Requirement already satisfied: IPython in /home/ec2-user/anaconda3/envs/amazonei_pytorch_latest_p36/lib/python3.6/site-packages (7.12.0)\n",
      "Collecting IPython\n",
      "  Downloading ipython-7.16.1-py3-none-any.whl (785 kB)\n",
      "\u001b[K     |████████████████████████████████| 785 kB 18.5 MB/s eta 0:00:01\n",
      "\u001b[?25hRequirement already satisfied: setuptools>=18.5 in /home/ec2-user/anaconda3/envs/amazonei_pytorch_latest_p36/lib/python3.6/site-packages (from IPython) (49.6.0.post20210108)\n",
      "Requirement already satisfied: pickleshare in /home/ec2-user/anaconda3/envs/amazonei_pytorch_latest_p36/lib/python3.6/site-packages (from IPython) (0.7.5)\n",
      "Requirement already satisfied: traitlets>=4.2 in /home/ec2-user/anaconda3/envs/amazonei_pytorch_latest_p36/lib/python3.6/site-packages (from IPython) (4.3.3)\n",
      "Requirement already satisfied: prompt-toolkit!=3.0.0,!=3.0.1,<3.1.0,>=2.0.0 in /home/ec2-user/anaconda3/envs/amazonei_pytorch_latest_p36/lib/python3.6/site-packages (from IPython) (3.0.8)\n",
      "Requirement already satisfied: pygments in /home/ec2-user/anaconda3/envs/amazonei_pytorch_latest_p36/lib/python3.6/site-packages (from IPython) (2.8.0)\n",
      "Requirement already satisfied: jedi>=0.10 in /home/ec2-user/anaconda3/envs/amazonei_pytorch_latest_p36/lib/python3.6/site-packages (from IPython) (0.17.0)\n",
      "Requirement already satisfied: backcall in /home/ec2-user/anaconda3/envs/amazonei_pytorch_latest_p36/lib/python3.6/site-packages (from IPython) (0.2.0)\n",
      "Requirement already satisfied: pexpect in /home/ec2-user/anaconda3/envs/amazonei_pytorch_latest_p36/lib/python3.6/site-packages (from IPython) (4.8.0)\n",
      "Requirement already satisfied: decorator in /home/ec2-user/anaconda3/envs/amazonei_pytorch_latest_p36/lib/python3.6/site-packages (from IPython) (4.4.2)\n",
      "Requirement already satisfied: parso>=0.7.0 in /home/ec2-user/anaconda3/envs/amazonei_pytorch_latest_p36/lib/python3.6/site-packages (from jedi>=0.10->IPython) (0.8.1)\n",
      "Requirement already satisfied: wcwidth in /home/ec2-user/anaconda3/envs/amazonei_pytorch_latest_p36/lib/python3.6/site-packages (from prompt-toolkit!=3.0.0,!=3.0.1,<3.1.0,>=2.0.0->IPython) (0.2.5)\n",
      "Requirement already satisfied: six in /home/ec2-user/anaconda3/envs/amazonei_pytorch_latest_p36/lib/python3.6/site-packages (from traitlets>=4.2->IPython) (1.15.0)\n",
      "Requirement already satisfied: ipython-genutils in /home/ec2-user/anaconda3/envs/amazonei_pytorch_latest_p36/lib/python3.6/site-packages (from traitlets>=4.2->IPython) (0.2.0)\n",
      "Requirement already satisfied: ptyprocess>=0.5 in /home/ec2-user/anaconda3/envs/amazonei_pytorch_latest_p36/lib/python3.6/site-packages (from pexpect->IPython) (0.7.0)\n",
      "Installing collected packages: IPython\n",
      "  Attempting uninstall: IPython\n",
      "    Found existing installation: ipython 7.12.0\n",
      "    Uninstalling ipython-7.12.0:\n",
      "      Successfully uninstalled ipython-7.12.0\n",
      "Successfully installed IPython-7.16.1\n"
     ]
    }
   ],
   "source": [
    "# First, let's get the latest installations of our dependencies\n",
    "!pip install --upgrade pip\n",
    "!pip install botocore --upgrade\n",
    "!pip install boto3 --upgrade\n",
    "!pip install IPython --upgrade"
   ]
  },
  {
   "cell_type": "code",
   "execution_count": 5,
   "metadata": {},
   "outputs": [
    {
     "name": "stdout",
     "output_type": "stream",
     "text": [
      "uploading s3://amazon-rekognition-code-samples-678987013791-us-east-1/media/leaving.mp4\n",
      "uploading s3://amazon-rekognition-code-samples-678987013791-us-east-1/media/objects.mp4\n",
      "uploading s3://amazon-rekognition-code-samples-678987013791-us-east-1/media/cellphone.jpg\n",
      "uploading s3://amazon-rekognition-code-samples-678987013791-us-east-1/media/identity.jpg\n",
      "uploading s3://amazon-rekognition-code-samples-678987013791-us-east-1/media/looking_at_screen.jpg\n",
      "All done\n",
      "Stored 'bucket_name' (str)\n"
     ]
    }
   ],
   "source": [
    "# Initialize Dependencies\n",
    "import boto3\n",
    "import botocore\n",
    "\n",
    "# Initialize clients\n",
    "REGION = boto3.session.Session().region_name\n",
    "s3 = boto3.client('s3', REGION)\n",
    "sts = boto3.client(\"sts\")\n",
    "\n",
    "# An S3 Bucket is created and then sample images and videos are copied over there\n",
    "account_id = sts.get_caller_identity()[\"Account\"]\n",
    "bucket_name = \"amazon-rekognition-code-samples-{}-{}\".format(account_id, REGION)\n",
    "\n",
    "try:\n",
    "    s3.head_bucket(Bucket=bucket_name)\n",
    "except botocore.exceptions.ClientError as e:\n",
    "    error_code = int(e.response['Error']['Code'])\n",
    "    if error_code == 403:\n",
    "        print(\"Private Bucket. Forbidden Access! Please ensure the bucket is accessible from the Notebook\")\n",
    "    elif error_code == 404:\n",
    "        s3.create_bucket(Bucket=bucket_name, CreateBucketConfiguration={\n",
    "            'LocationConstraint': REGION\n",
    "        })\n",
    "\n",
    "media = ['leaving.mp4', 'objects.mp4', 'cellphone.jpg', 'identity.jpg', 'looking_at_screen.jpg']\n",
    "\n",
    "for file in media:\n",
    "    file_name = \"media/{}\".format(file)\n",
    "    with open(file_name, 'rb') as data:\n",
    "        print(\"uploading s3://{}/{}\".format(bucket_name, file_name))\n",
    "        s3.upload_fileobj(data, bucket_name, file_name)\n",
    "\n",
    "print(\"All done\")\n",
    "\n",
    "%store bucket_name"
   ]
  },
  {
   "cell_type": "markdown",
   "metadata": {},
   "source": [
    "Now you can proceed with the first lab."
   ]
  }
 ],
 "metadata": {
  "kernelspec": {
   "display_name": "conda_amazonei_pytorch_latest_p36",
   "language": "python",
   "name": "conda_amazonei_pytorch_latest_p36"
  },
  "language_info": {
   "codemirror_mode": {
    "name": "ipython",
    "version": 3
   },
   "file_extension": ".py",
   "mimetype": "text/x-python",
   "name": "python",
   "nbconvert_exporter": "python",
   "pygments_lexer": "ipython3",
   "version": "3.6.13"
  }
 },
 "nbformat": 4,
 "nbformat_minor": 4
}
